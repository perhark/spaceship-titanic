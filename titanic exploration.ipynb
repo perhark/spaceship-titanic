{
 "cells": [
  {
   "cell_type": "code",
   "execution_count": 140,
   "metadata": {},
   "outputs": [],
   "source": [
    "#https://www.kaggle.com/code/kaustubhshirpurkar/exploring-titanic-data-using-pandas-dataframes\n",
    "#check previous page\n",
    "\n",
    "import pandas as pd\n",
    "import numpy as np\n",
    "\n",
    "train = pd.read_csv('data/train.csv')\n",
    "test = pd.read_csv('data/test.csv')\n"
   ]
  },
  {
   "cell_type": "code",
   "execution_count": 141,
   "metadata": {},
   "outputs": [
    {
     "name": "stdout",
     "output_type": "stream",
     "text": [
      "<class 'pandas.core.frame.DataFrame'>\n",
      "RangeIndex: 8693 entries, 0 to 8692\n",
      "Data columns (total 14 columns):\n",
      " #   Column        Non-Null Count  Dtype  \n",
      "---  ------        --------------  -----  \n",
      " 0   PassengerId   8693 non-null   object \n",
      " 1   HomePlanet    8492 non-null   object \n",
      " 2   CryoSleep     8476 non-null   object \n",
      " 3   Cabin         8494 non-null   object \n",
      " 4   Destination   8511 non-null   object \n",
      " 5   Age           8514 non-null   float64\n",
      " 6   VIP           8490 non-null   object \n",
      " 7   RoomService   8512 non-null   float64\n",
      " 8   FoodCourt     8510 non-null   float64\n",
      " 9   ShoppingMall  8485 non-null   float64\n",
      " 10  Spa           8510 non-null   float64\n",
      " 11  VRDeck        8505 non-null   float64\n",
      " 12  Name          8493 non-null   object \n",
      " 13  Transported   8693 non-null   bool   \n",
      "dtypes: bool(1), float64(6), object(7)\n",
      "memory usage: 891.5+ KB\n"
     ]
    }
   ],
   "source": [
    "train.info()"
   ]
  },
  {
   "cell_type": "code",
   "execution_count": 142,
   "metadata": {},
   "outputs": [
    {
     "name": "stdout",
     "output_type": "stream",
     "text": [
      "<class 'pandas.core.frame.DataFrame'>\n",
      "RangeIndex: 4277 entries, 0 to 4276\n",
      "Data columns (total 13 columns):\n",
      " #   Column        Non-Null Count  Dtype  \n",
      "---  ------        --------------  -----  \n",
      " 0   PassengerId   4277 non-null   object \n",
      " 1   HomePlanet    4190 non-null   object \n",
      " 2   CryoSleep     4184 non-null   object \n",
      " 3   Cabin         4177 non-null   object \n",
      " 4   Destination   4185 non-null   object \n",
      " 5   Age           4186 non-null   float64\n",
      " 6   VIP           4184 non-null   object \n",
      " 7   RoomService   4195 non-null   float64\n",
      " 8   FoodCourt     4171 non-null   float64\n",
      " 9   ShoppingMall  4179 non-null   float64\n",
      " 10  Spa           4176 non-null   float64\n",
      " 11  VRDeck        4197 non-null   float64\n",
      " 12  Name          4183 non-null   object \n",
      "dtypes: float64(6), object(7)\n",
      "memory usage: 434.5+ KB\n"
     ]
    }
   ],
   "source": [
    "test.info()"
   ]
  },
  {
   "cell_type": "code",
   "execution_count": 143,
   "metadata": {},
   "outputs": [
    {
     "data": {
      "text/plain": [
       "PassengerId       0\n",
       "HomePlanet      201\n",
       "CryoSleep       217\n",
       "Cabin           199\n",
       "Destination     182\n",
       "Age             179\n",
       "VIP             203\n",
       "RoomService     181\n",
       "FoodCourt       183\n",
       "ShoppingMall    208\n",
       "Spa             183\n",
       "VRDeck          188\n",
       "Name            200\n",
       "Transported       0\n",
       "dtype: int64"
      ]
     },
     "execution_count": 143,
     "metadata": {},
     "output_type": "execute_result"
    }
   ],
   "source": [
    "train.isnull().sum()"
   ]
  },
  {
   "cell_type": "code",
   "execution_count": 144,
   "metadata": {},
   "outputs": [
    {
     "data": {
      "text/plain": [
       "PassengerId       0\n",
       "HomePlanet       87\n",
       "CryoSleep        93\n",
       "Cabin           100\n",
       "Destination      92\n",
       "Age              91\n",
       "VIP              93\n",
       "RoomService      82\n",
       "FoodCourt       106\n",
       "ShoppingMall     98\n",
       "Spa             101\n",
       "VRDeck           80\n",
       "Name             94\n",
       "dtype: int64"
      ]
     },
     "execution_count": 144,
     "metadata": {},
     "output_type": "execute_result"
    }
   ],
   "source": [
    "test.isnull().sum()"
   ]
  },
  {
   "cell_type": "code",
   "execution_count": 145,
   "metadata": {},
   "outputs": [
    {
     "name": "stdout",
     "output_type": "stream",
     "text": [
      "PassengerId\n",
      "['0001_01' '0002_01' '0003_01' ... '9279_01' '9280_01' '9280_02']\n",
      "HomePlanet\n",
      "['Europa' 'Earth' 'Mars' nan]\n",
      "CryoSleep\n",
      "[False True nan]\n",
      "Cabin\n",
      "['B/0/P' 'F/0/S' 'A/0/S' ... 'G/1499/S' 'G/1500/S' 'E/608/S']\n",
      "Destination\n",
      "['TRAPPIST-1e' 'PSO J318.5-22' '55 Cancri e' nan]\n",
      "Age\n",
      "[39. 24. 58. 33. 16. 44. 26. 28. 35. 14. 34. 45. 32. 48. 31. 27.  0.  1.\n",
      " 49. 29. 10.  7. 21. 62. 15. 43. 47.  2. 20. 23. 30. 17. 55.  4. 19. 56.\n",
      " nan 25. 38. 36. 22. 18. 42. 37. 13.  8. 40.  3. 54.  9.  6. 64. 67. 61.\n",
      " 50. 41. 57. 11. 52. 51. 46. 60. 63. 59.  5. 79. 68. 74. 12. 53. 65. 71.\n",
      " 75. 70. 76. 78. 73. 66. 69. 72. 77.]\n",
      "VIP\n",
      "[False True nan]\n",
      "RoomService\n",
      "[   0.  109.   43. ... 1569. 8586.  745.]\n",
      "FoodCourt\n",
      "[   0.    9. 3576. ... 3208. 6819. 4688.]\n",
      "ShoppingMall\n",
      "[   0.   25.  371. ... 1085.  510. 1872.]\n",
      "Spa\n",
      "[   0.  549. 6715. ... 2868. 1107. 1643.]\n",
      "VRDeck\n",
      "[   0.   44.   49. ... 1164.  971. 3235.]\n",
      "Name\n",
      "['Maham Ofracculy' 'Juanna Vines' 'Altark Susent' ... 'Fayey Connon'\n",
      " 'Celeon Hontichre' 'Propsh Hontichre']\n",
      "Transported\n",
      "[False  True]\n"
     ]
    }
   ],
   "source": [
    "cols=train.columns\n",
    "\n",
    "for lab in cols :\n",
    "    print(lab)\n",
    "    print(train[lab].unique())"
   ]
  },
  {
   "cell_type": "code",
   "execution_count": 146,
   "metadata": {},
   "outputs": [
    {
     "name": "stdout",
     "output_type": "stream",
     "text": [
      "Index(['Age', 'RoomService', 'FoodCourt', 'ShoppingMall', 'Spa', 'VRDeck'], dtype='object')\n",
      "Index(['PassengerId', 'HomePlanet', 'CryoSleep', 'Cabin', 'Destination', 'VIP',\n",
      "       'Name', 'Transported'],\n",
      "      dtype='object')\n",
      "Index(['Transported'], dtype='object')\n",
      "Index(['Age', 'RoomService', 'FoodCourt', 'ShoppingMall', 'Spa', 'VRDeck'], dtype='object')\n",
      "Index(['PassengerId', 'HomePlanet', 'CryoSleep', 'Cabin', 'Destination', 'VIP',\n",
      "       'Name'],\n",
      "      dtype='object')\n"
     ]
    }
   ],
   "source": [
    "numbers_train = train.select_dtypes(np.number)\n",
    "bool_train = train.select_dtypes(np.bool)\n",
    "cad_train = train.select_dtypes(exclude=[np.number])\n",
    "\n",
    "print(numbers_train.columns)\n",
    "print(cad_train.columns)\n",
    "print(bool_train.columns)\n",
    "numbers_test = test.select_dtypes(np.number)\n",
    "cad_test = test.select_dtypes(exclude=[np.number])\n",
    "print(numbers_test.columns)\n",
    "print(cad_test.columns)\n"
   ]
  },
  {
   "cell_type": "code",
   "execution_count": 147,
   "metadata": {},
   "outputs": [
    {
     "name": "stdout",
     "output_type": "stream",
     "text": [
      "PassengerId\n",
      "8693\n",
      "HomePlanet\n",
      "3\n",
      "CryoSleep\n",
      "2\n",
      "Cabin\n",
      "6560\n",
      "Destination\n",
      "3\n",
      "Age\n",
      "80\n",
      "VIP\n",
      "2\n",
      "RoomService\n",
      "1273\n",
      "FoodCourt\n",
      "1507\n",
      "ShoppingMall\n",
      "1115\n",
      "Spa\n",
      "1327\n",
      "VRDeck\n",
      "1306\n",
      "Name\n",
      "8473\n",
      "Transported\n",
      "2\n",
      "check nulls\n",
      "PassengerId     0\n",
      "HomePlanet      0\n",
      "CryoSleep       0\n",
      "Cabin           0\n",
      "Destination     0\n",
      "Age             0\n",
      "VIP             0\n",
      "RoomService     0\n",
      "FoodCourt       0\n",
      "ShoppingMall    0\n",
      "Spa             0\n",
      "VRDeck          0\n",
      "Name            0\n",
      "Transported     0\n",
      "dtype: int64\n",
      "PassengerId     0\n",
      "HomePlanet      0\n",
      "CryoSleep       0\n",
      "Cabin           0\n",
      "Destination     0\n",
      "Age             0\n",
      "VIP             0\n",
      "RoomService     0\n",
      "FoodCourt       0\n",
      "ShoppingMall    0\n",
      "Spa             0\n",
      "VRDeck          0\n",
      "Name            0\n",
      "dtype: int64\n"
     ]
    }
   ],
   "source": [
    "numbers_train = train.select_dtypes(np.number)\n",
    "object_train = train.select_dtypes(exclude=[np.number]) #bool and strings\n",
    "\n",
    "for numbers in numbers_train:\n",
    "    train.loc[:,numbers] = train.loc[:,numbers].fillna(train.loc[:,numbers].median())\n",
    "            \n",
    "for obj in object_train:\n",
    "    train.loc[:,obj] = train.loc[:,obj].fillna(train.loc[:,obj].mode()[0])\n",
    "\n",
    "numbers_test = test.select_dtypes(np.number)\n",
    "object_test = test.select_dtypes(exclude=[np.number]) #bool and strings\n",
    "    \n",
    "#fill nans with moda and median TRAIN\n",
    "for numbers in numbers_test:\n",
    "    test.loc[:,numbers] = test.loc[:,numbers].fillna(test.loc[:,numbers].median())\n",
    "\n",
    "for obj in object_test:\n",
    "    test.loc[:,obj] = test.loc[:,obj].fillna(test.loc[:,obj].mode()[0])\n",
    "            \n",
    "for lab in cols :\n",
    "    print(lab)\n",
    "    print(len(train[lab].unique()))\n",
    "\n",
    "print(\"check nulls\")\n",
    "print(train.isnull().sum())\n",
    "print(test.isnull().sum())"
   ]
  },
  {
   "cell_type": "code",
   "execution_count": 148,
   "metadata": {},
   "outputs": [
    {
     "name": "stdout",
     "output_type": "stream",
     "text": [
      "          AgeBand  Transported\n",
      "0  (-0.001, 22.0]     0.545275\n",
      "1    (22.0, 33.0]     0.473088\n",
      "2    (33.0, 79.0]     0.489407\n",
      "2746\n",
      "2937\n",
      "2832\n",
      "   RoomServicBand  Transported\n",
      "0   (-0.001, 1.0]     0.622128\n",
      "1  (1.0, 14327.0]     0.256565\n",
      "5758\n",
      "2935\n",
      "    FoodCourtBand  Transported\n",
      "0   (-0.001, 2.0]     0.577187\n",
      "1  (2.0, 29813.0]     0.353825\n",
      "5755\n",
      "2938\n",
      "   ShoppingMallBand  Transported\n",
      "0   (-0.001, 0.667]     0.596894\n",
      "1  (0.667, 23492.0]     0.317115\n",
      "5795\n",
      "2898\n",
      "          SpaBand  Transported\n",
      "0   (-0.001, 3.0]     0.622440\n",
      "1  (3.0, 22408.0]     0.264053\n",
      "5758\n",
      "2935\n",
      "       VRDeckBand  Transported\n",
      "0   (-0.001, 1.0]     0.617657\n",
      "1  (1.0, 24133.0]     0.272379\n",
      "5795\n",
      "2898\n"
     ]
    }
   ],
   "source": [
    "train['AgeBand'] = pd.qcut(train['Age'],q=3)\n",
    "print(train[['AgeBand', 'Transported']].groupby(['AgeBand'], as_index=False).mean().sort_values(by='AgeBand', ascending=True))\n",
    "\n",
    "print(len(train[train['Age']<22]))\n",
    "print(len(train[ (train['Age']>=22 ) & (train['Age']<33)]))\n",
    "print(len(train[train['Age']>33]))\n",
    "\n",
    "train['RoomServicBand'] = pd.qcut(train['RoomService'],q=3,duplicates='drop')\n",
    "print(train[['RoomServicBand', 'Transported']].groupby(['RoomServicBand'], as_index=False).mean().sort_values(by='RoomServicBand', ascending=True))\n",
    "print(len(train[train['RoomService']<1.0]))\n",
    "print(len(train[train['RoomService']>=1.0]))\n",
    "\n",
    "train['FoodCourtBand'] = pd.qcut(train['FoodCourt'],q=3,duplicates='drop')\n",
    "print(train[['FoodCourtBand', 'Transported']].groupby(['FoodCourtBand'], as_index=False).mean().sort_values(by='FoodCourtBand', ascending=True))\n",
    "\n",
    "print(len(train[train['FoodCourt']< 2.0]))\n",
    "print(len(train[train['FoodCourt']>= 2.0]))\n",
    "\n",
    "train['ShoppingMallBand'] = pd.qcut(train['ShoppingMall'],q=3,duplicates='drop')\n",
    "print(train[['ShoppingMallBand', 'Transported']].groupby(['ShoppingMallBand'], as_index=False).mean().sort_values(by='ShoppingMallBand', ascending=True))\n",
    "\n",
    "print(len(train[train['ShoppingMall']< 0.667]))\n",
    "print(len(train[train['ShoppingMall']>= 0.667]))\n",
    "\n",
    "train['SpaBand'] = pd.qcut(train['Spa'],q=3,duplicates='drop')\n",
    "print(train[['SpaBand', 'Transported']].groupby(['SpaBand'], as_index=False).mean().sort_values(by='SpaBand', ascending=True))\n",
    "\n",
    "print(len(train[train['Spa']< 3]))\n",
    "print(len(train[train['Spa']>= 3]))\n",
    "\n",
    "train['VRDeckBand'] = pd.qcut(train['VRDeck'],q=3,duplicates='drop')\n",
    "print(train[['VRDeckBand', 'Transported']].groupby(['VRDeckBand'], as_index=False).mean().sort_values(by='VRDeckBand', ascending=True))\n",
    "\n",
    "print(len(train[train['ShoppingMall']< 1]))\n",
    "print(len(train[train['ShoppingMall']>= 1]))\n",
    "\n"
   ]
  },
  {
   "cell_type": "code",
   "execution_count": 149,
   "metadata": {},
   "outputs": [
    {
     "name": "stdout",
     "output_type": "stream",
     "text": [
      "   CryoSleep  Transported\n",
      "0      False     0.335042\n",
      "1       True     0.817583\n",
      "   Age  Transported\n",
      "0    1     0.545275\n",
      "1    2     0.473088\n",
      "2    3     0.489407\n",
      "218.3780262143408\n",
      "   RoomService  Transported\n",
      "0            0     0.577081\n",
      "1            1     0.181931\n",
      "441.8909791827294\n",
      "   FoodCourt  Transported\n",
      "0          0     0.509970\n",
      "1          1     0.472468\n",
      "170.77949113338474\n",
      "   ShoppingMall  Transported\n",
      "0             0     0.524253\n",
      "1             1     0.404539\n"
     ]
    }
   ],
   "source": [
    "#print(pd.crosstab(train['CryoSleep'], train['Transported']))\n",
    "\n",
    "print(train[['CryoSleep', 'Transported']].groupby(['CryoSleep'], as_index=False).mean())\n",
    "\n",
    "train.loc[train['Age']<0,'Age'] = 0\n",
    "train.loc[ (train['Age']>=0) & (train['Age']<=22) ,'Age'] = 1\n",
    "train.loc[ (train['Age']>22) & (train['Age']<=33) ,'Age'] = 2\n",
    "train.loc[train['Age']>33,'Age'] = 3\n",
    "train['Age'] = train['Age'].astype(int)\n",
    "    \n",
    "print(train[['Age', 'Transported']].groupby(['Age'], as_index=False).mean())\n",
    "\n",
    "#erase transported column\n",
    "train_aux = train.copy()\n",
    "train_aux  = train_aux.drop(['Transported'], axis=1)\n",
    "\n",
    "#join all data\n",
    "result = pd.concat([train_aux,test])\n",
    "print(result['RoomService'].mean())\n",
    "train.loc[train['RoomService']<result['RoomService'].mean(),'RoomService'] = 0\n",
    "train.loc[ (train['RoomService']>=result['RoomService'].mean()) ,'RoomService'] = 1\n",
    "train['RoomService'] = train['RoomService'].astype(int)\n",
    "\n",
    "print(train[['RoomService', 'Transported']].groupby(['RoomService'], as_index=False).mean())\n",
    "\n",
    "print(result['FoodCourt'].mean())\n",
    "train.loc[train['FoodCourt']<result['FoodCourt'].mean(),'FoodCourt'] = 0\n",
    "train.loc[train['FoodCourt']>=result['FoodCourt'].mean() ,'FoodCourt'] = 1\n",
    "train['FoodCourt'] = train['FoodCourt'].astype(int)\n",
    "\n",
    "print(train[['FoodCourt', 'Transported']].groupby(['FoodCourt'], as_index=False).mean())\n",
    "\n",
    "print(result['ShoppingMall'].mean())\n",
    "\n",
    "train.loc[train['ShoppingMall']<result['ShoppingMall'].mean(),'ShoppingMall'] = 0\n",
    "train.loc[train['ShoppingMall']>=result['ShoppingMall'].mean() ,'ShoppingMall'] = 1\n",
    "train['ShoppingMall'] = train['ShoppingMall'].astype(int)\n",
    "\n",
    "print(train[['ShoppingMall', 'Transported']].groupby(['ShoppingMall'], as_index=False).mean())\n"
   ]
  },
  {
   "cell_type": "code",
   "execution_count": 69,
   "metadata": {},
   "outputs": [
    {
     "name": "stdout",
     "output_type": "stream",
     "text": [
      "['0001' '0002' '0003' ... '9278' '9279' '9280']\n",
      "['01' '02' '03' '04' '05' '06' '07' '08']\n"
     ]
    }
   ],
   "source": [
    "\n",
    "train['group'] = train.PassengerId.str.extract( r'(\\d+)\\_', expand=False)\n",
    "train['number'] = train.PassengerId.str.extract( r'\\_(\\d+)', expand=False)\n",
    "\n",
    "print(train['group'].unique())\n",
    "print(train['number'].unique())"
   ]
  },
  {
   "cell_type": "code",
   "execution_count": 70,
   "metadata": {},
   "outputs": [
    {
     "name": "stdout",
     "output_type": "stream",
     "text": [
      "['B' 'F' 'A' 'G' 'E' 'D' 'C' 'T']\n",
      "['0' '1' '2' ... '1892' '1893' '1894']\n",
      "['P' 'S']\n"
     ]
    }
   ],
   "source": [
    "train['deck'] = train.Cabin.str.extract( '([A-Za-z]+)\\/', expand=False)\n",
    "train['num'] = train.Cabin.str.extract( r'(\\d+)', expand=False)\n",
    "train['side'] = train.Cabin.str.extract( '\\/([A-Za-z]+)', expand=False)\n",
    "\n",
    "\n",
    "print(train['deck'].unique())\n",
    "print(train['num'].unique())\n",
    "print(train['side'].unique())"
   ]
  },
  {
   "cell_type": "code",
   "execution_count": 152,
   "metadata": {},
   "outputs": [
    {
     "name": "stdout",
     "output_type": "stream",
     "text": [
      "2213\n"
     ]
    }
   ],
   "source": [
    "train['Name'] = train.Name.str.extract( '(\\ [A-Za-z]+)', expand=False)\n",
    "print(train['Name'])"
   ]
  },
  {
   "cell_type": "code",
   "execution_count": null,
   "metadata": {},
   "outputs": [],
   "source": []
  }
 ],
 "metadata": {
  "kernelspec": {
   "display_name": "Python 3",
   "language": "python",
   "name": "python3"
  },
  "language_info": {
   "codemirror_mode": {
    "name": "ipython",
    "version": 3
   },
   "file_extension": ".py",
   "mimetype": "text/x-python",
   "name": "python",
   "nbconvert_exporter": "python",
   "pygments_lexer": "ipython3",
   "version": "3.7.6"
  }
 },
 "nbformat": 4,
 "nbformat_minor": 4
}
